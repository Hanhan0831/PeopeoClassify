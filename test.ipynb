{
 "cells": [
  {
   "cell_type": "code",
   "execution_count": null,
   "metadata": {
    "collapsed": true
   },
   "outputs": [],
   "source": [
    "import pandas as pd\n",
    "import tqdm.auto as tqdm\n",
    "\n",
    "def read_csv_file(user_id, video_id):\n",
    "    filepath = f'Experiment_2/{user_id}/video_{video_id}.csv'\n",
    "    df = pd.read_csv(filepath)\n",
    "    df['video_id'] = video_id  # 添加video_id字段\n",
    "    return df\n",
    "\n",
    "data_with_labels = []\n",
    "\n",
    "for user_id in range(1, 49):\n",
    "    user_data = []\n",
    "    for video_id in range(0, 9):\n",
    "        df = read_csv_file(user_id, video_id)\n",
    "\n",
    "        # 对数据进行预处理，例如计算每秒的坐标等\n",
    "        # df = preprocess(df)\n",
    "\n",
    "        # 添加标签（用户ID）\n",
    "        df['user_id'] = user_id\n",
    "\n",
    "        user_data.append(df)\n",
    "\n",
    "    user_data_combined = pd.concat(user_data, ignore_index=True)\n",
    "    data_with_labels.append(user_data_combined)\n",
    "\n",
    "data_with_labels = pd.concat(data_with_labels, ignore_index=True)\n"
   ]
  },
  {
   "cell_type": "code",
   "execution_count": null,
   "outputs": [],
   "source": [
    "from datetime import timedelta\n",
    "import numpy as np\n",
    "from tqdm.auto import tqdm\n",
    "\n",
    "def process_data(data):\n",
    "    data['Timestamp'] = pd.to_datetime(data['Timestamp'])\n",
    "    data['rounded_time'] = data['Timestamp'].dt.floor('100ms')\n",
    "\n",
    "    train_data = []\n",
    "    train_labels = []\n",
    "    test_data = []\n",
    "    test_labels = []\n",
    "\n",
    "    for user_id, user_data in tqdm(data.groupby('user_id')):\n",
    "        for video_id, video_data in user_data.groupby('video_id'):\n",
    "            for second, second_data in video_data.groupby(video_data['rounded_time'].dt.floor('1s')):\n",
    "                time_slices = []\n",
    "                for _, chunk_data in second_data.groupby(pd.cut(second_data['Timestamp'], pd.date_range(second, second + timedelta(seconds=1), periods=11))):\n",
    "                    if not chunk_data.empty:\n",
    "                        chunk_data = chunk_data[['UnitQuaternion.x', 'UnitQuaternion.y', 'UnitQuaternion.z', 'UnitQuaternion.w', 'HmdPosition.x', 'HmdPosition.y', 'HmdPosition.z']]\n",
    "                        time_slices.append(chunk_data.mean().values)\n",
    "\n",
    "                if len(time_slices) == 10:\n",
    "                    if video_id == 'video_0':\n",
    "                        test_data.append(time_slices)\n",
    "                        test_labels.append(user_id)\n",
    "                    else:\n",
    "                        train_data.append(time_slices)\n",
    "                        train_labels.append(user_id)\n",
    "\n",
    "    return np.array(train_data), np.array(train_labels), np.array(test_data), np.array(test_labels)\n",
    "\n",
    "train_data, train_labels, test_data, test_labels = process_data(data_with_labels)\n",
    "\n"
   ],
   "metadata": {
    "collapsed": false
   }
  },
  {
   "cell_type": "code",
   "execution_count": null,
   "outputs": [],
   "source": [
    "from tensorflow.keras.models import load_model\n",
    "from tensorflow.keras.utils import to_categorical\n",
    "import tensorflow as tf\n",
    "# 将用户ID转换为从0开始的整数\n",
    "unique_labels = np.unique(np.concatenate([train_labels, test_labels]))\n",
    "label_map = {label: idx for idx, label in enumerate(unique_labels)}\n",
    "int_train_labels = np.array([label_map[label] for label in train_labels])\n",
    "int_test_labels = np.array([label_map[label] for label in test_labels])\n",
    "\n",
    "# 将标签数据转换为one-hot编码\n",
    "one_hot_train_labels = to_categorical(int_train_labels, num_classes=len(unique_labels))\n",
    "one_hot_test_labels = to_categorical(int_test_labels, num_classes=len(unique_labels))\n",
    "def evaluate_accuracy(test_data, test_labels, model):\n",
    "    with tf.device('/device:GPU:0'):\n",
    "        predictions = model.predict(test_data)\n",
    "    predicted_labels = np.argmax(predictions, axis=1)\n",
    "\n",
    "    correct_predictions = np.sum(predicted_labels == test_labels)\n",
    "    total_predictions = len(test_labels)\n",
    "    accuracy = correct_predictions / total_predictions\n",
    "\n",
    "    return accuracy\n",
    "\n",
    "model_path = 'result.h5'\n",
    "loaded_model = load_model(model_path)\n",
    "accuracy = evaluate_accuracy(test_data, int_test_labels, model)\n",
    "print(f\"预测准确率: {accuracy:.4f}\")\n"
   ],
   "metadata": {
    "collapsed": false
   }
  }
 ],
 "metadata": {
  "kernelspec": {
   "display_name": "Python 3",
   "language": "python",
   "name": "python3"
  },
  "language_info": {
   "codemirror_mode": {
    "name": "ipython",
    "version": 2
   },
   "file_extension": ".py",
   "mimetype": "text/x-python",
   "name": "python",
   "nbconvert_exporter": "python",
   "pygments_lexer": "ipython2",
   "version": "2.7.6"
  }
 },
 "nbformat": 4,
 "nbformat_minor": 0
}
